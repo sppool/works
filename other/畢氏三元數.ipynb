{
 "cells": [
  {
   "cell_type": "code",
   "execution_count": 4,
   "metadata": {},
   "outputs": [
    {
     "name": "stdout",
     "output_type": "stream",
     "text": [
      "求斜邊???以下的所有畢氏三元數(比例),輸入正整數200\n",
      "  1  斜邊: 5   4   3\n",
      "  2  斜邊: 13   12   5\n",
      "  3  斜邊: 17   15   8\n",
      "  4  斜邊: 25   24   7\n",
      "  5  斜邊: 29   21   20\n",
      "  6  斜邊: 37   35   12\n",
      "  7  斜邊: 41   40   9\n",
      "  8  斜邊: 53   45   28\n",
      "  9  斜邊: 61   60   11\n",
      " 10  斜邊: 65   63   16\n",
      " 11  斜邊: 65   56   33\n",
      " 12  斜邊: 73   55   48\n",
      " 13  斜邊: 85   84   13\n",
      " 14  斜邊: 85   77   36\n",
      " 15  斜邊: 89   80   39\n",
      " 16  斜邊: 97   72   65\n",
      " 17  斜邊: 101   99   20\n",
      " 18  斜邊: 109   91   60\n",
      " 19  斜邊: 113   112   15\n",
      " 20  斜邊: 125   117   44\n",
      " 21  斜邊: 137   105   88\n",
      " 22  斜邊: 145   144   17\n",
      " 23  斜邊: 145   143   24\n",
      " 24  斜邊: 149   140   51\n",
      " 25  斜邊: 157   132   85\n",
      " 26  斜邊: 169   120   119\n",
      " 27  斜邊: 173   165   52\n",
      " 28  斜邊: 181   180   19\n",
      " 29  斜邊: 185   176   57\n",
      " 30  斜邊: 185   153   104\n",
      " 31  斜邊: 193   168   95\n",
      " 32  斜邊: 197   195   28\n"
     ]
    }
   ],
   "source": [
    "# 畢氏三元數\n",
    "from numpy import sqrt\n",
    "a = []\n",
    "i = 0\n",
    "nummax = int(input(\"求斜邊???以下的所有畢氏三元數(比例),輸入正整數\"))\n",
    "for side_a in range(5,nummax+1):\n",
    "    for side_b in range(1,int(side_a/sqrt(2))+1):\n",
    "        x = (side_a**2-side_b**2)\n",
    "        if int(sqrt(x))**2 == x and (side_a/side_b) not in a:\n",
    "            side_c = int(sqrt(x))\n",
    "            a.append(side_a/side_b)\n",
    "            i += 1\n",
    "            print('%3d'%(i),' 斜邊:',side_a,' ',side_c,' ',side_b)\n",
    "        else:\n",
    "            pass\n",
    "a = []\n",
    "i = 0"
   ]
  },
  {
   "cell_type": "code",
   "execution_count": null,
   "metadata": {},
   "outputs": [],
   "source": []
  }
 ],
 "metadata": {
  "kernelspec": {
   "display_name": "Python 3",
   "language": "python",
   "name": "python3"
  },
  "language_info": {
   "codemirror_mode": {
    "name": "ipython",
    "version": 3
   },
   "file_extension": ".py",
   "mimetype": "text/x-python",
   "name": "python",
   "nbconvert_exporter": "python",
   "pygments_lexer": "ipython3",
   "version": "3.6.5"
  }
 },
 "nbformat": 4,
 "nbformat_minor": 2
}
