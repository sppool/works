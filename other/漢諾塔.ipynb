{
 "cells": [
  {
   "cell_type": "code",
   "execution_count": 1,
   "metadata": {},
   "outputs": [],
   "source": [
    "def han(n, x, y, z):\n",
    "    '''圓環 小~大 1~n'''\n",
    "    if n == 1:\n",
    "        print(x,'->',z)\n",
    "    else :\n",
    "        han(n-1, x, z, y) # n-1的塔 x 移動到 y\n",
    "        print(x,'->',z) #第 n x 移動到 z\n",
    "        han(n-1, y, x, z) # n-1的塔 y 移動到 z"
   ]
  },
  {
   "cell_type": "code",
   "execution_count": 2,
   "metadata": {},
   "outputs": [
    {
     "name": "stdout",
     "output_type": "stream",
     "text": [
      "x -> z\n",
      "x -> y\n",
      "z -> y\n",
      "x -> z\n",
      "y -> x\n",
      "y -> z\n",
      "x -> z\n",
      "x -> y\n",
      "z -> y\n",
      "z -> x\n",
      "y -> x\n",
      "z -> y\n",
      "x -> z\n",
      "x -> y\n",
      "z -> y\n",
      "x -> z\n",
      "y -> x\n",
      "y -> z\n",
      "x -> z\n",
      "y -> x\n",
      "z -> y\n",
      "z -> x\n",
      "y -> x\n",
      "y -> z\n",
      "x -> z\n",
      "x -> y\n",
      "z -> y\n",
      "x -> z\n",
      "y -> x\n",
      "y -> z\n",
      "x -> z\n"
     ]
    }
   ],
   "source": [
    "han(5, 'x', 'y', 'z')"
   ]
  },
  {
   "cell_type": "code",
   "execution_count": null,
   "metadata": {},
   "outputs": [],
   "source": []
  }
 ],
 "metadata": {
  "kernelspec": {
   "display_name": "Python 3",
   "language": "python",
   "name": "python3"
  },
  "language_info": {
   "codemirror_mode": {
    "name": "ipython",
    "version": 3
   },
   "file_extension": ".py",
   "mimetype": "text/x-python",
   "name": "python",
   "nbconvert_exporter": "python",
   "pygments_lexer": "ipython3",
   "version": "3.6.5"
  }
 },
 "nbformat": 4,
 "nbformat_minor": 2
}
