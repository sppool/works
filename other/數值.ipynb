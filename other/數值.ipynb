{
 "cells": [
  {
   "cell_type": "markdown",
   "metadata": {},
   "source": [
    "### Solving f(x) = e^x -2x - 1\n",
    "#### e^x = 2x +1\n",
    "#### x = ln(2x+1)=g(x)"
   ]
  },
  {
   "cell_type": "code",
   "execution_count": 1,
   "metadata": {},
   "outputs": [],
   "source": [
    "import numpy as np\n",
    "from sympy import *\n",
    "init_printing(use_unicode=True)"
   ]
  },
  {
   "cell_type": "code",
   "execution_count": 2,
   "metadata": {},
   "outputs": [],
   "source": [
    "x, y = symbols('x, y')\n",
    "\n",
    "def f(x):\n",
    "    fun = exp(x) - 2*x - 1\n",
    "    return fun.subs(x, x).evalf()\n",
    "\n",
    "def g(x):\n",
    "    fun = log(2*x+1)\n",
    "    return fun.subs(x, x).evalf()"
   ]
  },
  {
   "cell_type": "code",
   "execution_count": 3,
   "metadata": {},
   "outputs": [
    {
     "data": {
      "image/png": "[encoded data removed]",
      "text/latex": [
       "$$- 2.0 x + e^{x} - 1.0$$"
      ],
      "text/plain": [
       "          x      \n",
       "-2.0⋅x + ℯ  - 1.0"
      ]
     },
     "execution_count": 3,
     "metadata": {},
     "output_type": "execute_result"
    }
   ],
   "source": [
    "f(x)"
   ]
  },
  {
   "cell_type": "code",
   "execution_count": 4,
   "metadata": {},
   "outputs": [
    {
     "data": {
      "image/png": "[encoded data removed]",
      "text/latex": [
       "$$\\log{\\left (2 x + 1 \\right )}$$"
      ],
      "text/plain": [
       "log(2⋅x + 1)"
      ]
     },
     "execution_count": 4,
     "metadata": {},
     "output_type": "execute_result"
    }
   ],
   "source": [
    "g(x)"
   ]
  },
  {
   "cell_type": "markdown",
   "metadata": {},
   "source": [
    "#### 二分法"
   ]
  },
  {
   "cell_type": "code",
   "execution_count": 5,
   "metadata": {},
   "outputs": [],
   "source": [
    "a = 1.\n",
    "b = 2.\n",
    "c = (a + b)/2\n",
    "i = 0\n",
    "tol = 1e-5"
   ]
  },
  {
   "cell_type": "code",
   "execution_count": 7,
   "metadata": {},
   "outputs": [
    {
     "name": "stdout",
     "output_type": "stream",
     "text": [
      "1  1.250000\n",
      "2  1.375000\n",
      "3  1.312500\n",
      "4  1.281250\n",
      "5  1.265625\n",
      "6  1.257812\n",
      "7  1.253906\n",
      "8  1.255859\n",
      "9  1.256836\n",
      "10  1.256348\n",
      "11  1.256592\n",
      "12  1.256470\n",
      "13  1.256409\n",
      "14  1.256439\n",
      "15  1.256424\n",
      "16  1.256432\n"
     ]
    }
   ],
   "source": [
    "while abs(f(c))>tol:\n",
    "    i+=1\n",
    "    if f(a)*f(c) < 0:\n",
    "        b = c\n",
    "        c = (a + b)/2\n",
    "    elif f(b)*f(c) < 0:\n",
    "        a = c\n",
    "        c = (a + b)/2\n",
    "    else:\n",
    "        pass\n",
    "    print(\"%d  %f\"%(i, c))"
   ]
  },
  {
   "cell_type": "markdown",
   "metadata": {},
   "source": [
    "#### 簡單遞迴法"
   ]
  },
  {
   "cell_type": "code",
   "execution_count": 8,
   "metadata": {},
   "outputs": [],
   "source": [
    "tol = 1e-7\n",
    "i = 0\n",
    "x0 = 0.5\n",
    "x1 = g(x0)"
   ]
  },
  {
   "cell_type": "code",
   "execution_count": 9,
   "metadata": {},
   "outputs": [
    {
     "name": "stdout",
     "output_type": "stream",
     "text": [
      "1 0.693147\n",
      "2 0.869742\n",
      "3 1.007769\n",
      "4 1.103778\n",
      "5 1.165510\n",
      "6 1.203278\n",
      "7 1.225702\n",
      "8 1.238781\n",
      "9 1.246332\n",
      "10 1.250665\n",
      "11 1.253143\n",
      "12 1.254557\n",
      "13 1.255364\n",
      "14 1.255823\n",
      "15 1.256085\n",
      "16 1.256234\n",
      "17 1.256319\n",
      "18 1.256367\n",
      "19 1.256395\n",
      "20 1.256410\n",
      "21 1.256419\n",
      "22 1.256424\n",
      "23 1.256427\n",
      "24 1.256429\n",
      "25 1.256430\n",
      "26 1.256431\n",
      "27 1.256431\n",
      "28 1.256431\n"
     ]
    }
   ],
   "source": [
    "while abs(x1-x0)>tol:\n",
    "    i+=1\n",
    "    x0 = x1\n",
    "    x1 = g(x0)\n",
    "    print('%d %f'%(i, x0))"
   ]
  },
  {
   "cell_type": "code",
   "execution_count": 10,
   "metadata": {},
   "outputs": [
    {
     "data": {
      "image/png": "[encoded data removed]",
      "text/latex": [
       "$$\\log{\\left (2 x + 1 \\right )}$$"
      ],
      "text/plain": [
       "log(2⋅x + 1)"
      ]
     },
     "execution_count": 10,
     "metadata": {},
     "output_type": "execute_result"
    }
   ],
   "source": [
    "g(x)"
   ]
  },
  {
   "cell_type": "code",
   "execution_count": null,
   "metadata": {},
   "outputs": [],
   "source": []
  },
  {
   "cell_type": "code",
   "execution_count": null,
   "metadata": {},
   "outputs": [],
   "source": []
  }
 ],
 "metadata": {
  "kernelspec": {
   "display_name": "Python 3",
   "language": "python",
   "name": "python3"
  },
  "language_info": {
   "codemirror_mode": {
    "name": "ipython",
    "version": 3
   },
   "file_extension": ".py",
   "mimetype": "text/x-python",
   "name": "python",
   "nbconvert_exporter": "python",
   "pygments_lexer": "ipython3",
   "version": "3.6.6"
  }
 },
 "nbformat": 4,
 "nbformat_minor": 2
}
