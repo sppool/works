{
 "cells": [
  {
   "cell_type": "code",
   "execution_count": 1,
   "metadata": {},
   "outputs": [],
   "source": [
    "# 斐波那契數列 : [0, 1, 1, 2, 3, 5, 8, 13, 21, 34, 55...] f(0) = 0, f(1) = 1, n > 1 : f(n) = f(n-1) + f(n-2)\n",
    "\n",
    "def list_f(N):\n",
    "    lst = []\n",
    "    lst.append(0)\n",
    "    lst.append(1)\n",
    "    for n in range(N-1):\n",
    "        lst.append(lst[-1] + lst[-2])\n",
    "    return lst\n",
    "\n",
    "def f(N): \n",
    "    return list_f(N)[-1]\n",
    "\n",
    "# 列印菱形\n",
    "'''\n",
    "   *   \n",
    "  ***  \n",
    " ***** \n",
    "*******\n",
    " ***** \n",
    "  ***  \n",
    "   * \n",
    "'''\n",
    "def print_star(N):\n",
    "    if N % 2 == 0:\n",
    "        s = N//2\n",
    "    else:\n",
    "        s = N//2 + 1\n",
    "    lst = list(range(N))\n",
    "    for n in range(s):\n",
    "        lst[n] = lst[N-n-1] = (2 * n) + 1\n",
    "    for n in range(N):\n",
    "        print(('{:^'+ str(N) +'s}').format('*'*lst[n]))"
   ]
  },
  {
   "cell_type": "code",
   "execution_count": 2,
   "metadata": {},
   "outputs": [
    {
     "data": {
      "text/plain": [
       "12586269025"
      ]
     },
     "execution_count": 2,
     "metadata": {},
     "output_type": "execute_result"
    }
   ],
   "source": [
    "f(50)"
   ]
  },
  {
   "cell_type": "code",
   "execution_count": 3,
   "metadata": {},
   "outputs": [
    {
     "data": {
      "text/plain": [
       "[0, 1, 1, 2, 3, 5, 8, 13, 21, 34, 55, 89, 144, 233, 377, 610]"
      ]
     },
     "execution_count": 3,
     "metadata": {},
     "output_type": "execute_result"
    }
   ],
   "source": [
    "list_f(15)"
   ]
  },
  {
   "cell_type": "code",
   "execution_count": 4,
   "metadata": {},
   "outputs": [
    {
     "name": "stdout",
     "output_type": "stream",
     "text": [
      "   *   \n",
      "  ***  \n",
      " ***** \n",
      "*******\n",
      " ***** \n",
      "  ***  \n",
      "   *   \n"
     ]
    }
   ],
   "source": [
    "print_star(7)"
   ]
  },
  {
   "cell_type": "code",
   "execution_count": 5,
   "metadata": {},
   "outputs": [
    {
     "name": "stdout",
     "output_type": "stream",
     "text": [
      "         *          \n",
      "        ***         \n",
      "       *****        \n",
      "      *******       \n",
      "     *********      \n",
      "    ***********     \n",
      "   *************    \n",
      "  ***************   \n",
      " *****************  \n",
      "******************* \n",
      "******************* \n",
      " *****************  \n",
      "  ***************   \n",
      "   *************    \n",
      "    ***********     \n",
      "     *********      \n",
      "      *******       \n",
      "       *****        \n",
      "        ***         \n",
      "         *          \n"
     ]
    }
   ],
   "source": [
    "print_star(20)"
   ]
  }
 ],
 "metadata": {
  "kernelspec": {
   "display_name": "Python 3",
   "language": "python",
   "name": "python3"
  },
  "language_info": {
   "codemirror_mode": {
    "name": "ipython",
    "version": 3
   },
   "file_extension": ".py",
   "mimetype": "text/x-python",
   "name": "python",
   "nbconvert_exporter": "python",
   "pygments_lexer": "ipython3",
   "version": "3.7.1"
  }
 },
 "nbformat": 4,
 "nbformat_minor": 2
}
