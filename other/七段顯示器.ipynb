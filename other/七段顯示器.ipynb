{
 "cells": [
  {
   "cell_type": "code",
   "execution_count": 1,
   "metadata": {},
   "outputs": [],
   "source": [
    "import numpy as np\n",
    "from PIL import Image\n",
    "\n",
    "def img_show(img):\n",
    "    return Image.fromarray(np.uint8(img*255))"
   ]
  },
  {
   "cell_type": "code",
   "execution_count": 2,
   "metadata": {},
   "outputs": [],
   "source": [
    "arr = np.array([[1, 1, 1, 1, 1, 1, 0, 0], #0\n",
    "                [0, 1, 1, 0, 0, 0, 0, 0], #1\n",
    "                [1, 1, 0, 1, 1, 0, 1, 0], #2\n",
    "                [1, 1, 1, 1, 0, 0, 1, 0], #3\n",
    "                [0, 1, 1, 0, 0, 1, 1, 0], #4\n",
    "                [1, 0, 1, 1, 0, 1, 1, 0], #5\n",
    "                [1, 0, 1, 1, 1, 1, 1, 0], #6\n",
    "                [1, 1, 1, 0, 0, 0, 0, 0], #7\n",
    "                [1, 1, 1, 1, 1, 1, 1, 0], #8\n",
    "                [1, 1, 1, 0, 0, 1, 1, 0]])#9\n",
    "               #[A, B, C, D, E, F, G, P]"
   ]
  },
  {
   "cell_type": "code",
   "execution_count": 3,
   "metadata": {},
   "outputs": [
    {
     "data": {
      "image/png": "[encoded data removed]",
      "text/plain": [
       "<PIL.Image.Image image mode=L size=8x10 at 0x7F4F845B3B90>"
      ]
     },
     "execution_count": 3,
     "metadata": {},
     "output_type": "execute_result"
    }
   ],
   "source": [
    "img_show(-(arr-1))"
   ]
  },
  {
   "cell_type": "code",
   "execution_count": null,
   "metadata": {},
   "outputs": [],
   "source": []
  }
 ],
 "metadata": {
  "kernelspec": {
   "display_name": "Python 3",
   "language": "python",
   "name": "python3"
  },
  "language_info": {
   "codemirror_mode": {
    "name": "ipython",
    "version": 3
   },
   "file_extension": ".py",
   "mimetype": "text/x-python",
   "name": "python",
   "nbconvert_exporter": "python",
   "pygments_lexer": "ipython3",
   "version": "3.7.4"
  }
 },
 "nbformat": 4,
 "nbformat_minor": 2
}
