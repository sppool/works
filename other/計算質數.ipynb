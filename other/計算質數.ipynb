{
 "cells": [
  {
   "cell_type": "code",
   "execution_count": null,
   "metadata": {},
   "outputs": [],
   "source": [
    "#計算質數\n",
    "maxnum = int(input('請輸入一個整數 計算小於這個整數的數是否為質數:'))\n",
    "for num in range(1,maxnum+1):\n",
    "    if num == 1: # 1 無定義\n",
    "        pass\n",
    "    elif num <= 3: # 2.3為質數\n",
    "        print(num,'是質數')\n",
    "    else:\n",
    "        for i in range(2,int(num**0.5)+1): # 計算到開根號取整數\n",
    "            if num % i == 0:\n",
    "                print(num,'不是質數,','被',i,'整除.')\n",
    "                break\n",
    "            else :\n",
    "                if i == int(num**0.5):        \n",
    "                    print(num,'是質數')\n",
    "                    break\n",
    "                else:\n",
    "                    continue"
   ]
  }
 ],
 "metadata": {
  "kernelspec": {
   "display_name": "Python 3",
   "language": "python",
   "name": "python3"
  },
  "language_info": {
   "codemirror_mode": {
    "name": "ipython",
    "version": 3
   },
   "file_extension": ".py",
   "mimetype": "text/x-python",
   "name": "python",
   "nbconvert_exporter": "python",
   "pygments_lexer": "ipython3",
   "version": "3.6.1"
  }
 },
 "nbformat": 4,
 "nbformat_minor": 2
}
